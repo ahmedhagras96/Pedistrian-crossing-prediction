"""
3D Features Extraction

This file contains the extracted features from 3D pedestrian data, 
including group walking dynamics and walking directions.
"""
